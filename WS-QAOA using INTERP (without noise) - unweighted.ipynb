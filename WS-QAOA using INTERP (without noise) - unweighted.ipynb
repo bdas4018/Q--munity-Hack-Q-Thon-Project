{
 "cells": [
  {
   "cell_type": "code",
   "execution_count": 1,
   "id": "impossible-cricket",
   "metadata": {},
   "outputs": [],
   "source": [
    "import qiskit\n",
    "qiskit.__qiskit_version__\n",
    "from qiskit.visualization import plot_histogram\n",
    "from matplotlib import cm\n",
    "from matplotlib.ticker import LinearLocator, FormatStrFormatter\n",
    "import scipy.optimize as optimize"
   ]
  },
  {
   "cell_type": "code",
   "execution_count": 2,
   "id": "relative-commons",
   "metadata": {},
   "outputs": [],
   "source": [
    "import numpy as np\n",
    "import networkx as nx\n",
    "import matplotlib.pyplot as plt\n",
    "from collections import defaultdict\n",
    "from operator import itemgetter\n",
    "from scipy.optimize import minimize\n",
    "from qiskit import QuantumCircuit, QuantumRegister, ClassicalRegister, execute, Aer\n",
    "from qiskit.algorithms import NumPyEigensolver\n",
    "from qiskit.quantum_info import Pauli\n",
    "#from qiskit_operators import op_converter\n",
    "#from qiskit_operators import WeightedPauliOperator\n",
    "import qiskit \n",
    "import networkx as nx\n",
    "import matplotlib.pyplot as plt\n",
    "import numpy as np\n",
    "import scipy\n",
    "\n",
    "import matplotlib.pyplot as plt\n",
    "import matplotlib.axes as axes\n",
    "%matplotlib inline\n",
    "import numpy as np\n",
    "import networkx as nx\n",
    "\n",
    "from qiskit import Aer\n",
    "from qiskit.tools.visualization import plot_histogram\n",
    "from qiskit.circuit.library import TwoLocal\n",
    "from qiskit_optimization.applications import Maxcut, Tsp\n",
    "from qiskit.algorithms import VQE, NumPyMinimumEigensolver\n",
    "from qiskit.algorithms.optimizers import SPSA,COBYLA,SLSQP\n",
    "from qiskit.utils import algorithm_globals, QuantumInstance\n",
    "from qiskit_optimization.algorithms import MinimumEigenOptimizer\n",
    "from qiskit_optimization.problems import QuadraticProgram\n",
    "from qiskit_optimization.algorithms import MinimumEigenOptimizer, CplexOptimizer\n",
    "import numpy as np\n",
    "import copy\n",
    "\n",
    "from qiskit_optimization.algorithms import CobylaOptimizer,SlsqpOptimizer\n",
    "# Problem modelling imports\n",
    "from docplex.mp.model import Model\n",
    "\n",
    "# Qiskit imports\n",
    "from qiskit import BasicAer\n",
    "from qiskit.utils import QuantumInstance\n",
    "from qiskit.algorithms import QAOA, NumPyMinimumEigensolver\n",
    "from qiskit.utils.algorithm_globals import algorithm_globals\n",
    "from qiskit_optimization.algorithms import MinimumEigenOptimizer, CplexOptimizer\n",
    "from qiskit_optimization import QuadraticProgram\n",
    "from qiskit_optimization.problems.variable import VarType\n",
    "from qiskit_optimization.converters.quadratic_program_to_qubo import QuadraticProgramToQubo\n",
    "\n",
    "import numpy as np\n",
    "import copy\n",
    "\n",
    "# Problem modelling imports\n",
    "from docplex.mp.model import Model\n",
    "from time import time\n",
    "# Qiskit imports\n",
    "from qiskit import BasicAer\n",
    "from qiskit.utils import QuantumInstance\n",
    "from qiskit.algorithms import QAOA, NumPyMinimumEigensolver\n",
    "from qiskit.utils.algorithm_globals import algorithm_globals\n",
    "from qiskit_optimization.algorithms import MinimumEigenOptimizer, CplexOptimizer\n",
    "from qiskit_optimization import QuadraticProgram\n",
    "from qiskit_optimization.problems.variable import VarType\n",
    "from qiskit_optimization.converters.quadratic_program_to_qubo import QuadraticProgramToQubo"
   ]
  },
  {
   "cell_type": "code",
   "execution_count": 4,
   "id": "egyptian-translator",
   "metadata": {},
   "outputs": [
    {
     "data": {
      "image/png": "[encoded data removed]",
      "text/plain": [
       "<Figure size 432x288 with 1 Axes>"
      ]
     },
     "metadata": {},
     "output_type": "display_data"
    }
   ],
   "source": [
    "def butterfly():\n",
    "    '''Generating the butterfly graph with 5 nodes'''\n",
    "    n     = 5\n",
    "    V     = np.arange(0,n,1)\n",
    "    E     =[(0,1,1.0),(1,2,1.0),(2,3,1.0),(3,0,1.0),(1,4,1.0),(4,2,1.0)] \n",
    "   \n",
    "    \n",
    "    G     = nx.Graph()\n",
    "    G.add_nodes_from(V)\n",
    "    G.add_weighted_edges_from(E)\n",
    "    return G\n",
    "\n",
    "\n",
    "\n",
    "\n",
    "\n",
    "#G = nx.Graph()\n",
    "#G.add_edges_from([[0,3],[0,4],[1,3],[1,4],[2,3],[2,4]])\n",
    "#nx.draw(G, pos=nx.bipartite_layout(G, [0,1,2]))\n",
    "backend = Aer.get_backend('qasm_simulator')\n",
    "\n",
    "#backend = Aer.get_backend('qasm_simulator', basis_gates=basis_gates,noise_model=noise_model)\n",
    "\n",
    "\n",
    "def diamond():\n",
    "    '''\n",
    "    Creates a diamond graph, i.e. a graph with 4 nodes and 5 edges \n",
    "    Also see https://www.graphclasses.org/smallgraphs.html#nodes4\n",
    "    '''\n",
    "    n = 5 # Number of nodes in graph\n",
    "    G = nx.Graph()\n",
    "    G.add_nodes_from(np.arange(0,n,1))\n",
    "    elist = [(0,3,1.0),(0,4,1.0),(1,3,1.0),(1,4,1.0),(2,3,1.0),(2,4,1.0)]\n",
    "    # tuple is (i,j,weight) where (i,j) is the edge\n",
    "    G.add_weighted_edges_from(elist)\n",
    "    \n",
    "    return G\n",
    "\n",
    "G=diamond()\n",
    "nx.draw(G)\n",
    "\n",
    "def bitstring_to_array(x):\n",
    "        return np.array([int(d) for d in str(x)])\n",
    "n=len(G)    \n",
    "\n",
    "\n",
    "n=5 # Number of nodes in graph\n",
    "G=nx.Graph()\n",
    "G.add_nodes_from(np.arange(0,n,1))\n",
    "elist= [(0,3,1.0),(0,4,1.0),(1,3,1.0),(1,4,1.0),(2,3,1.0),(2,4,1.0)]\n",
    "# tuple is (i,j,weight) where (i,j) is the edge\n",
    "G.add_weighted_edges_from(elist)\n",
    "\n",
    "colors = ['r' for node in G.nodes()]\n",
    "pos = nx.spring_layout(G)\n",
    "\n",
    "def draw_graph(G, colors, pos):\n",
    "    default_axes = plt.axes(frameon=True)\n",
    "    nx.draw_networkx(G, node_color=colors, node_size=600, alpha=.8, ax=default_axes, pos=pos)\n",
    "    edge_labels = nx.get_edge_attributes(G, 'weight')\n",
    "    nx.draw_networkx_edge_labels(G, pos=pos, edge_labels=edge_labels)\n",
    "    \n",
    "draw_graph(G, colors, pos)"
   ]
  },
  {
   "cell_type": "code",
   "execution_count": 5,
   "id": "active-tower",
   "metadata": {},
   "outputs": [],
   "source": [
    "def objective(G, x):\n",
    "    '''Calculating the value of a cut x on graph G, \n",
    "    where x is represented by a numpy array of 1s and 0s\n",
    "    '''\n",
    "    w = nx.to_numpy_array(G)\n",
    "    spin = pow(-1,x) # bijection from 0,1 to 1,-1\n",
    "    \n",
    "    return 0.5*sum([w[i,j]*(1-spin[i]*spin[j]) for i,j in G.edges]) \n",
    "\n",
    "def create_circuit(G, gamma, beta):\n",
    "    '''Creating QAOA circuit for given angles'''\n",
    "    # Setting p (and checking if beta and gamma are of the same size)\n",
    "    #print(len(beta))\n",
    "    if len(beta) == len(gamma):\n",
    "        p = len(beta)\n",
    "    else:\n",
    "        raise ValueError(\"The parameter array beta must have the same length as parameter gamma\")\n",
    "    \n",
    "    n = len(G)\n",
    "    circ = qiskit.QuantumCircuit(n)\n",
    "    \n",
    "    # for i in range(n):\n",
    "    #    circ.h(i)\n",
    "    thetas = [2*np.arcsin(np.sqrt(c_star)) for c_star in c_stars]\n",
    "\n",
    "    for idx, theta in enumerate(thetas):\n",
    "        circ.ry(theta, idx)\n",
    "        \n",
    "        \n",
    "    for i in range(p):\n",
    "        for a,b in G.edges:\n",
    "            circ.cx(a,b)\n",
    "            circ.rz(-gamma[i],b) #PLUS or MINUS! Does it matter? We optimize anyway - it does affect the range of gamma and the patterns\n",
    "            circ.cx(a,b)\n",
    "        circ.barrier()\n",
    "        #for a in G.nodes:\n",
    "         #   circ.rx(beta[i], a)\n",
    "        for idx, theta in enumerate(thetas): \n",
    "            circ.ry(-theta, idx)\n",
    "            circ.rz(-2*beta[i], idx)\n",
    "            circ.ry(theta, idx)    \n",
    "            \n",
    "    \n",
    "    circ.measure_all()\n",
    "    \n",
    "    return circ\n",
    "\n",
    "def expectation(G, gamma, beta, backend, n_samples = 1024):\n",
    "    '''Evaluates expectation for given graph and angles'''\n",
    "    \n",
    "    # create circuit and run it n_shots times\n",
    "    counts = sample(G, gamma, beta, backend, n_samples = n_samples)\n",
    "    \n",
    "    def bitstring_to_array(x):\n",
    "        return np.array([int(d) for d in str(x)])\n",
    "    \n",
    "    avg = sum([counts[x] * objective(G,bitstring_to_array(x)) for x in counts])/n_samples\n",
    "    \n",
    "    return avg\n",
    "\n",
    "def find_local_angles(G, gamma, beta, backend, n_samples = 1024, optimizer = 'COBYLA', optimizer_options = None):\n",
    "    '''Find local optimum beginning from gamma, beta (these are overwritten)\n",
    "    Note that (gamma,beta) is the initial point and are overwritten when this method is run\n",
    "    '''    \n",
    "\n",
    "    def fun(angles):\n",
    "        ''' The objective function to be optimised by varying the angles\n",
    "        Note, we want to maximize the expectation <Hc>, this is equivalent to \n",
    "        minimizing - <Hc>'''\n",
    "        new_gamma = angles[:len(angles)//2]\n",
    "        new_beta = angles[len(angles)//2:]\n",
    "        \n",
    "        # maximize f = minimize -f \n",
    "        return -expectation(G, new_gamma, new_beta, backend, n_samples) \n",
    "    \n",
    "    x0 = gamma+beta\n",
    "    result = scipy.optimize.minimize(fun, x0, method= optimizer)\n",
    "    \n",
    "    # finding angles\n",
    "    angles = result.x\n",
    "    new_gamma = angles[:len(angles)//2]\n",
    "    new_beta = angles[len(angles)//2:]\n",
    "    return result,new_gamma, new_beta\n",
    "  \n",
    "\n",
    "    \n",
    "def sample(G, gamma, beta, backend, n_samples = 1024, plot_histogram = False):\n",
    "    circ = create_circuit(G,beta,gamma)\n",
    "    #result = qiskit.execute(circ, backend = backend, shots = n_samples).result()\n",
    "    result = qiskit.execute(circ, Aer.get_backend('qasm_simulator'), shots = n_samples).result()\n",
    "    counts = result.get_counts()\n",
    "    counts=invert_counts(counts)\n",
    "    if plot_histogram:\n",
    "        from qiskit.tools.visualization import plot_histogram\n",
    "        plot_histogram(counts)\n",
    "        \n",
    "    return counts\n",
    "\n",
    "def get_angles_INTERP(G, p, backend, initial_gamma = [1.2], initial_beta = [2]):\n",
    "    '''\n",
    "    Finds quasi-optimal angles for a given graph G\n",
    "    Iteratively increase p, using an interpolation-based strategy\n",
    "    to find initial points for optimization\n",
    "    '''\n",
    "    \n",
    "    def INTERP_next_angles(angles):\n",
    "        '''Takes in a set of p angles and returns a new set of p+1 angles using the INTERP method'''\n",
    "        \n",
    "        assert len(gamma) == len(beta), \"Both lists of parameters gamma, beta must be of the same length\"\n",
    "        \n",
    "        p = len(angles)\n",
    "        \n",
    "        new_angles = [angles[0]] # i = 1, the first angles coincide\n",
    "        for i in range(2, p+1):\n",
    "            new_angles.append( (i-1)/p*angles[i-2] + (p-i+1)/p*angles[i-1]) # i in {2, ... , p}, interpolation \n",
    "        new_angles.append(angles[-1]) # i = p+1, the last angles coincide\n",
    "            \n",
    "        return new_angles\n",
    "\n",
    "    # p = 1 (check this - in Zhou et al. gamma in [-pi/2,pi/2) for udR graphs and beta in [-pi/4, pi/4]]) in general\n",
    "    \n",
    "    # find first set of angles\n",
    "    result,gamma,beta = find_local_angles(G,initial_gamma,initial_beta,backend)\n",
    "    \n",
    "    for i in range(p-1):\n",
    "        gamma_ansatz,beta_ansatz = INTERP_next_angles(gamma), INTERP_next_angles(beta) # new initial points\n",
    "        print(\"ansatz gamma, beta\", gamma_ansatz, beta_ansatz)\n",
    "        result,gamma,beta = find_local_angles(G,gamma_ansatz,beta_ansatz,backend) # new (local) optima  \n",
    "        print(\"RESULT\", result, gamma, beta)\n",
    "    \n",
    "    return result,gamma, beta\n",
    "\n",
    "def invert_counts(counts):\n",
    "    return {k[::-1]:v for k, v in counts.items()}"
   ]
  },
  {
   "cell_type": "code",
   "execution_count": 6,
   "id": "literary-cathedral",
   "metadata": {},
   "outputs": [],
   "source": [
    "\n",
    "\n",
    "#circ=create_circuit(G, [1.2], [2])\n",
    "#circ.draw(output='mpl')"
   ]
  },
  {
   "cell_type": "code",
   "execution_count": 7,
   "id": "floating-designer",
   "metadata": {},
   "outputs": [
    {
     "name": "stdout",
     "output_type": "stream",
     "text": [
      "[[0. 0. 0. 1. 1.]\n",
      " [0. 0. 0. 1. 1.]\n",
      " [0. 0. 0. 1. 1.]\n",
      " [1. 1. 1. 0. 0.]\n",
      " [1. 1. 1. 0. 0.]]\n"
     ]
    }
   ],
   "source": [
    "w = np.zeros([n,n])\n",
    "for i in range(n):\n",
    "    for j in range(n):\n",
    "        temp = G.get_edge_data(i,j,default=0)\n",
    "        if temp != 0:\n",
    "            w[i,j] = temp['weight'] \n",
    "print(w)"
   ]
  },
  {
   "cell_type": "code",
   "execution_count": 8,
   "id": "pressed-california",
   "metadata": {},
   "outputs": [
    {
     "name": "stdout",
     "output_type": "stream",
     "text": [
      "// This file has been generated by DOcplex\n",
      "// model name is: Max-cut\n",
      "// single vars section\n",
      "dvar bool x_0;\n",
      "dvar bool x_1;\n",
      "dvar bool x_2;\n",
      "dvar bool x_3;\n",
      "dvar bool x_4;\n",
      "\n",
      "maximize\n",
      " 2 x_0 + 2 x_1 + 2 x_2 + 3 x_3 + 3 x_4 [ - 2 x_0*x_3 - 2 x_0*x_4 - 2 x_1*x_3\n",
      " - 2 x_1*x_4 - 2 x_2*x_3 - 2 x_2*x_4 ];\n",
      " \n",
      "subject to {\n",
      "\n",
      "}\n"
     ]
    }
   ],
   "source": [
    "max_cut = Maxcut(w)\n",
    "qp = max_cut.to_quadratic_program()\n",
    "qp.to_docplex().prettyprint()\n",
    "#CplexOptimizer().solve(qp)"
   ]
  },
  {
   "cell_type": "code",
   "execution_count": 9,
   "id": "preceding-there",
   "metadata": {},
   "outputs": [],
   "source": [
    "def relax_problem(problem) -> QuadraticProgram:\n",
    "    \"\"\"Change all variables to continuous.\"\"\"\n",
    "    relaxed_problem = copy.deepcopy(problem)\n",
    "    for variable in relaxed_problem.variables:\n",
    "        variable.vartype = VarType.CONTINUOUS\n",
    "\n",
    "    return relaxed_problem\n"
   ]
  },
  {
   "cell_type": "code",
   "execution_count": 10,
   "id": "champion-exhibit",
   "metadata": {},
   "outputs": [
    {
     "data": {
      "text/plain": [
       "optimal function value: 6.0\n",
       "optimal value: [1. 1. 1. 0. 0.]\n",
       "status: SUCCESS"
      ]
     },
     "execution_count": 10,
     "metadata": {},
     "output_type": "execute_result"
    }
   ],
   "source": [
    "qp1 = relax_problem(QuadraticProgramToQubo().convert(qp))\n",
    "qp1\n",
    "#exact1 = MinimumEigenOptimizer(NumPyMinimumEigensolver())\n",
    "#result1 = exact1.solve(qp1)\n",
    "#print(result1)\n",
    "optimizer = CobylaOptimizer()\n",
    "result = optimizer.solve(qp1) \n",
    "result"
   ]
  },
  {
   "cell_type": "code",
   "execution_count": 11,
   "id": "employed-thermal",
   "metadata": {},
   "outputs": [
    {
     "data": {
      "text/plain": [
       "array([1., 1., 1., 0., 0.])"
      ]
     },
     "execution_count": 11,
     "metadata": {},
     "output_type": "execute_result"
    }
   ],
   "source": [
    "c_stars = result.samples[0].x\n",
    "c_stars"
   ]
  },
  {
   "cell_type": "code",
   "execution_count": 12,
   "id": "legendary-haiti",
   "metadata": {},
   "outputs": [],
   "source": [
    "\n",
    "thetas = [2*np.arcsin(np.sqrt(c_star)) for c_star in c_stars]\n"
   ]
  },
  {
   "cell_type": "code",
   "execution_count": 13,
   "id": "confused-poker",
   "metadata": {},
   "outputs": [
    {
     "name": "stdout",
     "output_type": "stream",
     "text": [
      "[3.141592653589793, 3.141592653589793, 3.141592653589793, 0.0, 0.0]\n"
     ]
    }
   ],
   "source": [
    "print(thetas)"
   ]
  },
  {
   "cell_type": "code",
   "execution_count": null,
   "id": "similar-maintenance",
   "metadata": {},
   "outputs": [],
   "source": []
  },
  {
   "cell_type": "code",
   "execution_count": null,
   "id": "mineral-schedule",
   "metadata": {},
   "outputs": [],
   "source": []
  },
  {
   "cell_type": "code",
   "execution_count": null,
   "id": "fourth-honolulu",
   "metadata": {},
   "outputs": [],
   "source": []
  },
  {
   "cell_type": "code",
   "execution_count": 14,
   "id": "challenging-karma",
   "metadata": {},
   "outputs": [],
   "source": [
    "# Computing the weight matrix from the random graph\n"
   ]
  },
  {
   "cell_type": "code",
   "execution_count": null,
   "id": "complimentary-highlight",
   "metadata": {},
   "outputs": [],
   "source": []
  },
  {
   "cell_type": "code",
   "execution_count": 15,
   "id": "protecting-george",
   "metadata": {},
   "outputs": [
    {
     "name": "stdout",
     "output_type": "stream",
     "text": [
      "// This file has been generated by DOcplex\n",
      "// model name is: Max-cut\n",
      "// single vars section\n",
      "dvar bool x_0;\n",
      "dvar bool x_1;\n",
      "dvar bool x_2;\n",
      "dvar bool x_3;\n",
      "dvar bool x_4;\n",
      "\n",
      "maximize\n",
      " 2 x_0 + 2 x_1 + 2 x_2 + 3 x_3 + 3 x_4 [ - 2 x_0*x_3 - 2 x_0*x_4 - 2 x_1*x_3\n",
      " - 2 x_1*x_4 - 2 x_2*x_3 - 2 x_2*x_4 ];\n",
      " \n",
      "subject to {\n",
      "\n",
      "}\n"
     ]
    }
   ],
   "source": [
    "max_cut = Maxcut(w)\n",
    "qp = max_cut.to_quadratic_program()\n",
    "qp.to_docplex().prettyprint()\n",
    "#CplexOptimizer().solve(qp)"
   ]
  },
  {
   "cell_type": "code",
   "execution_count": 16,
   "id": "destroyed-bolivia",
   "metadata": {},
   "outputs": [],
   "source": [
    "def relax_problem(problem) -> QuadraticProgram:\n",
    "    \"\"\"Change all variables to continuous.\"\"\"\n",
    "    relaxed_problem = copy.deepcopy(problem)\n",
    "    for variable in relaxed_problem.variables:\n",
    "        variable.vartype = VarType.CONTINUOUS\n",
    "\n",
    "    return relaxed_problem\n",
    "\n",
    "\n",
    "\n",
    "\n",
    "\n",
    "#qubitOp, offset = qp.to_ising()\n",
    "#print('Offset:', offset)\n",
    "#print('Ising Hamiltonian:')\n",
    "#print(str(qubitOp))"
   ]
  },
  {
   "cell_type": "code",
   "execution_count": 17,
   "id": "unavailable-johnson",
   "metadata": {},
   "outputs": [
    {
     "name": "stdout",
     "output_type": "stream",
     "text": [
      "ansatz gamma, beta [0.0, 0.0] [1.0, 1.0]\n",
      "RESULT      fun: -6.0\n",
      "   maxcv: 0.0\n",
      " message: 'Optimization terminated successfully.'\n",
      "    nfev: 25\n",
      "  status: 1\n",
      " success: True\n",
      "       x: array([0., 0., 1., 1.]) [0. 0.] [1. 1.]\n",
      "ansatz gamma, beta [0.0, 0.0, 0.0] [1.0, 1.0, 1.0]\n",
      "RESULT      fun: -6.0\n",
      "   maxcv: 0.0\n",
      " message: 'Optimization terminated successfully.'\n",
      "    nfev: 37\n",
      "  status: 1\n",
      " success: True\n",
      "       x: array([0., 0., 0., 1., 1., 1.]) [0. 0. 0.] [1. 1. 1.]\n",
      "ansatz gamma, beta [0.0, 0.0, 0.0, 0.0] [1.0, 1.0, 1.0, 1.0]\n",
      "RESULT      fun: -6.0\n",
      "   maxcv: 0.0\n",
      " message: 'Optimization terminated successfully.'\n",
      "    nfev: 49\n",
      "  status: 1\n",
      " success: True\n",
      "       x: array([0., 0., 0., 0., 1., 1., 1., 1.]) [0. 0. 0. 0.] [1. 1. 1. 1.]\n",
      "ansatz gamma, beta [0.0, 0.0, 0.0, 0.0, 0.0] [1.0, 1.0, 1.0, 1.0, 1.0]\n",
      "RESULT      fun: -6.0\n",
      "   maxcv: 0.0\n",
      " message: 'Optimization terminated successfully.'\n",
      "    nfev: 61\n",
      "  status: 1\n",
      " success: True\n",
      "       x: array([0., 0., 0., 0., 0., 1., 1., 1., 1., 1.]) [0. 0. 0. 0. 0.] [1. 1. 1. 1. 1.]\n",
      "ansatz gamma, beta [0.0, 0.0, 0.0, 0.0, 0.0, 0.0] [1.0, 1.0, 1.0, 1.0, 1.0, 1.0]\n",
      "RESULT      fun: -6.0\n",
      "   maxcv: 0.0\n",
      " message: 'Optimization terminated successfully.'\n",
      "    nfev: 73\n",
      "  status: 1\n",
      " success: True\n",
      "       x: array([0., 0., 0., 0., 0., 0., 1., 1., 1., 1., 1., 1.]) [0. 0. 0. 0. 0. 0.] [1. 1. 1. 1. 1. 1.]\n",
      "ansatz gamma, beta [0.0, 0.0, 0.0, 0.0, 0.0, 0.0, 0.0] [1.0, 1.0, 1.0, 1.0, 1.0, 1.0, 1.0]\n",
      "RESULT      fun: -6.0\n",
      "   maxcv: 0.0\n",
      " message: 'Optimization terminated successfully.'\n",
      "    nfev: 85\n",
      "  status: 1\n",
      " success: True\n",
      "       x: array([0., 0., 0., 0., 0., 0., 0., 1., 1., 1., 1., 1., 1., 1.]) [0. 0. 0. 0. 0. 0. 0.] [1. 1. 1. 1. 1. 1. 1.]\n"
     ]
    },
    {
     "data": {
      "text/plain": [
       "14.674732208251953"
      ]
     },
     "execution_count": 17,
     "metadata": {},
     "output_type": "execute_result"
    }
   ],
   "source": [
    "t0=time()\n",
    "result,optimal_gamma,optimal_beta=get_angles_INTERP(G, 7, backend, initial_gamma = [0.], initial_beta = [1.])\n",
    "S = sample(G, optimal_gamma,optimal_beta, backend, n_samples = 1024, plot_histogram=True)\n",
    "time()-t0#0.73,1.98,3.63,6.26,10.34,13.98"
   ]
  },
  {
   "cell_type": "code",
   "execution_count": 18,
   "id": "intelligent-correction",
   "metadata": {},
   "outputs": [],
   "source": [
    "S = sample(G, optimal_gamma,optimal_beta, backend, n_samples = 1024, plot_histogram=True)"
   ]
  },
  {
   "cell_type": "code",
   "execution_count": 19,
   "id": "collected-church",
   "metadata": {},
   "outputs": [
    {
     "data": {
      "text/plain": [
       "{'11100': 1024}"
      ]
     },
     "execution_count": 19,
     "metadata": {},
     "output_type": "execute_result"
    }
   ],
   "source": [
    "S"
   ]
  },
  {
   "cell_type": "code",
   "execution_count": 20,
   "id": "juvenile-isolation",
   "metadata": {},
   "outputs": [
    {
     "data": {
      "image/png": "[encoded data removed]",
      "text/plain": [
       "<Figure size 504x360 with 1 Axes>"
      ]
     },
     "execution_count": 20,
     "metadata": {},
     "output_type": "execute_result"
    }
   ],
   "source": [
    "plot_histogram(S)"
   ]
  },
  {
   "cell_type": "code",
   "execution_count": 21,
   "id": "literary-dairy",
   "metadata": {},
   "outputs": [
    {
     "data": {
      "image/png": "[encoded data removed]",
      "text/plain": [
       "<Figure size 504x360 with 1 Axes>"
      ]
     },
     "execution_count": 21,
     "metadata": {},
     "output_type": "execute_result"
    },
    {
     "data": {
      "image/png": "[encoded data removed]",
      "text/plain": [
       "<Figure size 432x288 with 1 Axes>"
      ]
     },
     "metadata": {
      "needs_background": "light"
     },
     "output_type": "display_data"
    }
   ],
   "source": [
    "energies = defaultdict(int)\n",
    "for k, v in S.items():\n",
    "    z = bitstring_to_array(k)\n",
    "    energies[objective(G,z)]+=v\n",
    "x,y = zip(*energies.items())\n",
    "plt.bar(x,y)\n",
    "\n",
    "\n",
    "\n",
    "plot_histogram(energies)"
   ]
  },
  {
   "cell_type": "code",
   "execution_count": null,
   "id": "peripheral-individual",
   "metadata": {},
   "outputs": [],
   "source": []
  },
  {
   "cell_type": "code",
   "execution_count": null,
   "id": "uniform-vocabulary",
   "metadata": {},
   "outputs": [],
   "source": []
  },
  {
   "cell_type": "raw",
   "id": "harmful-creativity",
   "metadata": {},
   "source": []
  },
  {
   "cell_type": "code",
   "execution_count": null,
   "id": "fatal-opportunity",
   "metadata": {},
   "outputs": [],
   "source": []
  },
  {
   "cell_type": "code",
   "execution_count": null,
   "id": "ignored-source",
   "metadata": {},
   "outputs": [],
   "source": []
  },
  {
   "cell_type": "code",
   "execution_count": null,
   "id": "tender-explorer",
   "metadata": {},
   "outputs": [],
   "source": []
  }
 ],
 "metadata": {
  "kernelspec": {
   "display_name": "Python 3",
   "language": "python",
   "name": "python3"
  },
  "language_info": {
   "codemirror_mode": {
    "name": "ipython",
    "version": 3
   },
   "file_extension": ".py",
   "mimetype": "text/x-python",
   "name": "python",
   "nbconvert_exporter": "python",
   "pygments_lexer": "ipython3",
   "version": "3.8.8"
  }
 },
 "nbformat": 4,
 "nbformat_minor": 5
}
